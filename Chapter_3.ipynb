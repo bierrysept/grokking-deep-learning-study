{
 "cells": [
  {
   "cell_type": "markdown",
   "id": "906f9456-e772-4802-aacd-9fdc5d7a2308",
   "metadata": {},
   "source": [
    "## Прогнозирование с одним входом\n",
    "### Подсчет вероятности победы на основе количества игр"
   ]
  },
  {
   "cell_type": "code",
   "execution_count": null,
   "id": "17f93378-a798-4a16-94cc-c1f6ca9eeb91",
   "metadata": {},
   "outputs": [],
   "source": [
    "# The network:\n",
    "\n",
    "weight = 0.1 \n",
    "def neural_network(input, weight):\n",
    "    prediction = input * weight\n",
    "    return prediction\n",
    "\n",
    "# How we use the network to predict something:\n",
    "\n",
    "number_of_toes = [8.5, 9.5, 10, 9]\n",
    "input = number_of_toes[0]\n",
    "pred = neural_network(input,weight)\n",
    "print(pred)"
   ]
  },
  {
   "cell_type": "markdown",
   "id": "b944c7fc-8f5a-4ddc-b4f6-223ccd9865ae",
   "metadata": {},
   "source": [
    "### Прогноз температуры"
   ]
  },
  {
   "cell_type": "code",
   "execution_count": 4,
   "id": "b42c58d7-00b0-449c-a860-5fb8f91a1058",
   "metadata": {},
   "outputs": [
    {
     "name": "stdout",
     "output_type": "stream",
     "text": [
      "89.0\n"
     ]
    }
   ],
   "source": [
    "weight = -8.9 \n",
    "input = -10\n",
    "pred = neural_network(input,weight)\n",
    "print(pred)"
   ]
  },
  {
   "cell_type": "markdown",
   "id": "fa76016f-c871-45e8-b176-c2ef53bb5663",
   "metadata": {},
   "source": [
    "## Прогнозирование с несколькими входами\n",
    "### Прогназирование вероятности победы исходя из нескольких точек данных"
   ]
  },
  {
   "cell_type": "code",
   "execution_count": 7,
   "id": "96bfc729-2e46-4762-b47e-2f178248cf00",
   "metadata": {},
   "outputs": [
    {
     "name": "stdout",
     "output_type": "stream",
     "text": [
      "0.9800000000000001\n"
     ]
    }
   ],
   "source": [
    "def w_sum(a,b):\n",
    "    assert(len(a) == len(b))\n",
    "    output = 0\n",
    "    for i in range(len(a)):\n",
    "        output += (a[i] * b[i])\n",
    "    return output\n",
    "\n",
    "weights = [0.1, 0.2, 0] \n",
    "    \n",
    "def neural_network(input, weights):\n",
    "    pred = w_sum(input,weights)\n",
    "    return pred\n",
    "\n",
    "toes =  [8.5, 9.5, 9.9, 9.0]\n",
    "wlrec = [0.65, 0.8, 0.8, 0.9]\n",
    "nfans = [1.2, 1.3, 0.5, 1.0]\n",
    "\n",
    "# Input corresponds to every entry\n",
    "# for the first game of the season.\n",
    "\n",
    "input = [toes[0],wlrec[0],nfans[0]]\n",
    "pred = neural_network(input,weights)\n",
    "\n",
    "print(pred)"
   ]
  },
  {
   "cell_type": "markdown",
   "id": "05fd27b5-1c17-4838-bad1-96d6652eed16",
   "metadata": {},
   "source": [
    "### Задача: Векторная математика\n",
    "Умение выполнять операции с векторами явлется краеугольным камнем в глубоком обучении. Попробуйте самостоятельно написать функции, реализующие следующие операции:\n",
    "- `def elementwise_multiplication(vec_a, vec_b)`\n",
    "- `def elementwise_addiction(vec_a, vec_b)`\n",
    "- `def vector_sum(vec_a)`\n",
    "- `def vector_average(vec_a)`\n",
    "Затем попробуйте 2 из них для вычисления скалярного произведения"
   ]
  },
  {
   "cell_type": "code",
   "execution_count": null,
   "id": "c68d4a19-e07d-4258-bc8b-d38527460e93",
   "metadata": {},
   "outputs": [],
   "source": []
  }
 ],
 "metadata": {
  "kernelspec": {
   "display_name": "Python 3 (ipykernel)",
   "language": "python",
   "name": "python3"
  },
  "language_info": {
   "codemirror_mode": {
    "name": "ipython",
    "version": 3
   },
   "file_extension": ".py",
   "mimetype": "text/x-python",
   "name": "python",
   "nbconvert_exporter": "python",
   "pygments_lexer": "ipython3",
   "version": "3.9.8"
  }
 },
 "nbformat": 4,
 "nbformat_minor": 5
}
